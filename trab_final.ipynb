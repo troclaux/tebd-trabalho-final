{
  "cells": [
    {
      "cell_type": "markdown",
      "metadata": {
        "id": "tp05DyYOv3Xy"
      },
      "source": [
        "## Importando bibliotecas"
      ]
    },
    {
      "cell_type": "code",
      "execution_count": null,
      "metadata": {
        "id": "ndGII9hrw2-C"
      },
      "outputs": [],
      "source": [
        "%%capture\n",
        "\n",
        "import nltk\n",
        "nltk.download('omw-1.4')\n",
        "\n",
        "!pip install rdflib\n",
        "!pip install SPARQLWrapper\n",
        "!pip install wikipedia\n",
        "!pip install pattern\n",
        "\n",
        "import string\n",
        "import wikipedia\n",
        "from pprint import pprint\n",
        "from rdflib import Graph\n",
        "from SPARQLWrapper import SPARQLWrapper, JSON, N3\n",
        "from pattern.text.en import singularize\n"
      ]
    },
    {
      "cell_type": "markdown",
      "metadata": {
        "id": "2JpL9hoWw2-L"
      },
      "source": [
        "## Candidate Selection"
      ]
    },
    {
      "cell_type": "code",
      "execution_count": null,
      "metadata": {
        "id": "XalV-lZHjSJV",
        "colab": {
          "base_uri": "https://localhost:8080/"
        },
        "outputId": "edf1da72-a83b-44fc-b129-88d8388d6705"
      },
      "outputs": [
        {
          "output_type": "stream",
          "name": "stdout",
          "text": [
            "Categorias encontradas: ['2010s English-language films', '2010s dance films', '2010s musical comedy-drama films', '2010s romantic musical films', '2016 drama films', '2016 films', '2016 romantic comedy-drama films', 'AC using state parameter: expanded', 'AC with 0 elements', 'All Wikipedia articles written in American English', 'American dance films', 'American musical comedy films', 'American musical drama films', 'American romantic comedy-drama films', 'American romantic musical films', 'Articles with short description', 'BAFTA winners (films)', 'Best Film BAFTA Award winners', 'Best Musical or Comedy Picture Golden Globe winners', 'Black Label Media films', 'CS1 German-language sources (de)', 'English-language films', 'Films about Hollywood, Los Angeles', 'Films about actors', 'Films about mass media people', 'Films about pianos and pianists', 'Films directed by Damien Chazelle', 'Films featuring a Best Actress Academy Award-winning performance', 'Films featuring a Best Musical or Comedy Actor Golden Globe winning performance', 'Films featuring a Best Musical or Comedy Actress Golden Globe winning performance', 'Films produced by Marc E. Platt', 'Films scored by Justin Hurwitz', 'Films set in Los Angeles', 'Films set in Nevada', 'Films set in studio lots', 'Films shot in Los Angeles', 'Films that won the Best Original Score Academy Award', 'Films that won the Best Original Song Academy Award', 'Films whose art director won the Best Art Direction Academy Award', 'Films whose cinematographer won the Best Cinematography Academy Award', 'Films whose director won the Best Directing Academy Award', 'Films whose director won the Best Direction BAFTA Award', 'Films whose director won the Best Director Golden Globe', 'Films with screenplays by Damien Chazelle', 'Good articles', 'IMAX films', 'IMDb ID same as Wikidata', 'Jazz films', 'Official website different in Wikidata and Wikipedia', 'Rotten Tomatoes template using name parameter', 'Short description is different from Wikidata', 'Summit Entertainment films', 'Template film date with 2 release dates', 'Use American English from June 2022', 'Use mdy dates from June 2018']\n",
            "Categorias encontradas: ['2010s English-language films', '2010s dance films', '2010s musical comedy-drama films', '2010s romantic musical films', '2016 drama films', '2016 films', '2016 romantic comedy-drama films', 'AC using state parameter: expanded', 'AC with 0 elements', 'All Wikipedia articles written in American English', 'American dance films', 'American musical comedy films', 'American musical drama films', 'American romantic comedy-drama films', 'American romantic musical films', 'Articles with short description', 'BAFTA winners (films)', 'Best Film BAFTA Award winners', 'Best Musical or Comedy Picture Golden Globe winners', 'Black Label Media films', 'CS1 German-language sources (de)', 'English-language films', 'Films about Hollywood, Los Angeles', 'Films about actors', 'Films about mass media people', 'Films about pianos and pianists', 'Films directed by Damien Chazelle', 'Films featuring a Best Actress Academy Award-winning performance', 'Films featuring a Best Musical or Comedy Actor Golden Globe winning performance', 'Films featuring a Best Musical or Comedy Actress Golden Globe winning performance', 'Films produced by Marc E. Platt', 'Films scored by Justin Hurwitz', 'Films set in Los Angeles', 'Films set in Nevada', 'Films set in studio lots', 'Films shot in Los Angeles', 'Films that won the Best Original Score Academy Award', 'Films that won the Best Original Song Academy Award', 'Films whose art director won the Best Art Direction Academy Award', 'Films whose cinematographer won the Best Cinematography Academy Award', 'Films whose director won the Best Directing Academy Award', 'Films whose director won the Best Direction BAFTA Award', 'Films whose director won the Best Director Golden Globe', 'Films with screenplays by Damien Chazelle', 'Good articles', 'IMAX films', 'IMDb ID same as Wikidata', 'Jazz films', 'Official website different in Wikidata and Wikipedia', 'Rotten Tomatoes template using name parameter', 'Short description is different from Wikidata', 'Summit Entertainment films', 'Template film date with 2 release dates', 'Use American English from June 2022', 'Use mdy dates from June 2018']\n"
          ]
        }
      ],
      "source": [
        "#pega um conjunto de categorias da wikipedia\n",
        "def search_wikipedia_categories(search_term):\n",
        "  try:\n",
        "    search_term = string.capwords(search_term)\n",
        "    searched_categories = wikipedia.page(search_term, auto_suggest=False).categories\n",
        "    print(f\"Categorias encontradas: {searched_categories}\")\n",
        "    return searched_categories\n",
        "  except wikipedia.DisambiguationError as e:\n",
        "    for i, search_option in enumerate(e.options):\n",
        "      print(f\"{i}. {search_option}\")\n",
        "\n",
        "    choice_number = int(input(\"Escolha a busca e insira o número correspondente: \"))\n",
        "    chosen_option = e.options[choice_number]\n",
        "    print(f\"\\nOpção escolhida: {chosen_option}\\n\")\n",
        "    searched_categories = wikipedia.page(chosen_option, auto_suggest=False).categories\n",
        "    return searched_categories\n",
        "  except wikipedia.PageError as e:\n",
        "    print(f\"Página não encontrada: {e}\")\n",
        "\n",
        "searched_categories = search_wikipedia_categories(\"la la land\")"
      ]
    },
    {
      "cell_type": "markdown",
      "metadata": {
        "id": "67iR9syFw2-R"
      },
      "source": [
        "### Formando grupos de categorias que compartilham mesmo sufixo ou prefixo"
      ]
    },
    {
      "cell_type": "code",
      "execution_count": null,
      "metadata": {
        "id": "S0cC_jSOw2-S",
        "colab": {
          "base_uri": "https://localhost:8080/"
        },
        "outputId": "43d3e2dc-8f14-465a-fbb0-7287406fa6a3"
      },
      "outputs": [
        {
          "output_type": "stream",
          "name": "stdout",
          "text": [
            "{'(de)': ['CS1 German-language sources (de)'],\n",
            " '(films)': ['BAFTA winners (films)'],\n",
            " '2010s': ['2010s English-language films',\n",
            "           '2010s dance films',\n",
            "           '2010s musical comedy-drama films',\n",
            "           '2010s romantic musical films'],\n",
            " '2016': ['2016 drama films', '2016 films', '2016 romantic comedy-drama films'],\n",
            " '2018': ['Use mdy dates from June 2018'],\n",
            " '2022': ['Use American English from June 2022'],\n",
            " 'ac': ['AC using state parameter: expanded', 'AC with 0 elements'],\n",
            " 'actors': ['Films about actors'],\n",
            " 'all': ['All Wikipedia articles written in American English'],\n",
            " 'american': ['American dance films',\n",
            "              'American musical comedy films',\n",
            "              'American musical drama films',\n",
            "              'American romantic comedy-drama films',\n",
            "              'American romantic musical films'],\n",
            " 'angeles': ['Films about Hollywood, Los Angeles',\n",
            "             'Films set in Los Angeles',\n",
            "             'Films shot in Los Angeles'],\n",
            " 'articles': ['Articles with short description', 'Good articles'],\n",
            " 'award': ['Films that won the Best Original Score Academy Award',\n",
            "           'Films that won the Best Original Song Academy Award',\n",
            "           'Films whose art director won the Best Art Direction Academy Award',\n",
            "           'Films whose cinematographer won the Best Cinematography Academy '\n",
            "           'Award',\n",
            "           'Films whose director won the Best Directing Academy Award',\n",
            "           'Films whose director won the Best Direction BAFTA Award'],\n",
            " 'bafta': ['BAFTA winners (films)'],\n",
            " 'best': ['Best Film BAFTA Award winners',\n",
            "          'Best Musical or Comedy Picture Golden Globe winners'],\n",
            " 'black': ['Black Label Media films'],\n",
            " 'chazelle': ['Films directed by Damien Chazelle',\n",
            "              'Films with screenplays by Damien Chazelle'],\n",
            " 'cs1': ['CS1 German-language sources (de)'],\n",
            " 'dates': ['Template film date with 2 release dates'],\n",
            " 'description': ['Articles with short description'],\n",
            " 'elements': ['AC with 0 elements'],\n",
            " 'english': ['All Wikipedia articles written in American English'],\n",
            " 'english-language': ['English-language films'],\n",
            " 'expanded': ['AC using state parameter: expanded'],\n",
            " 'films': ['2010s English-language films',\n",
            "           '2010s dance films',\n",
            "           '2010s musical comedy-drama films',\n",
            "           '2010s romantic musical films',\n",
            "           '2016 drama films',\n",
            "           '2016 films',\n",
            "           '2016 romantic comedy-drama films',\n",
            "           'American dance films',\n",
            "           'American musical comedy films',\n",
            "           'American musical drama films',\n",
            "           'American romantic comedy-drama films',\n",
            "           'American romantic musical films',\n",
            "           'Black Label Media films',\n",
            "           'English-language films',\n",
            "           'Films about Hollywood, Los Angeles',\n",
            "           'Films about actors',\n",
            "           'Films about mass media people',\n",
            "           'Films about pianos and pianists',\n",
            "           'Films directed by Damien Chazelle',\n",
            "           'Films featuring a Best Actress Academy Award-winning performance',\n",
            "           'Films featuring a Best Musical or Comedy Actor Golden Globe '\n",
            "           'winning performance',\n",
            "           'Films featuring a Best Musical or Comedy Actress Golden Globe '\n",
            "           'winning performance',\n",
            "           'Films produced by Marc E. Platt',\n",
            "           'Films scored by Justin Hurwitz',\n",
            "           'Films set in Los Angeles',\n",
            "           'Films set in Nevada',\n",
            "           'Films set in studio lots',\n",
            "           'Films shot in Los Angeles',\n",
            "           'Films that won the Best Original Score Academy Award',\n",
            "           'Films that won the Best Original Song Academy Award',\n",
            "           'Films whose art director won the Best Art Direction Academy Award',\n",
            "           'Films whose cinematographer won the Best Cinematography Academy '\n",
            "           'Award',\n",
            "           'Films whose director won the Best Directing Academy Award',\n",
            "           'Films whose director won the Best Direction BAFTA Award',\n",
            "           'Films whose director won the Best Director Golden Globe',\n",
            "           'Films with screenplays by Damien Chazelle',\n",
            "           'IMAX films',\n",
            "           'Jazz films',\n",
            "           'Summit Entertainment films'],\n",
            " 'globe': ['Films whose director won the Best Director Golden Globe'],\n",
            " 'good': ['Good articles'],\n",
            " 'hurwitz': ['Films scored by Justin Hurwitz'],\n",
            " 'imax': ['IMAX films'],\n",
            " 'imdb': ['IMDb ID same as Wikidata'],\n",
            " 'jazz': ['Jazz films'],\n",
            " 'lots': ['Films set in studio lots'],\n",
            " 'nevada': ['Films set in Nevada'],\n",
            " 'official': ['Official website different in Wikidata and Wikipedia'],\n",
            " 'parameter': ['Rotten Tomatoes template using name parameter'],\n",
            " 'people': ['Films about mass media people'],\n",
            " 'performance': ['Films featuring a Best Actress Academy Award-winning '\n",
            "                 'performance',\n",
            "                 'Films featuring a Best Musical or Comedy Actor Golden Globe '\n",
            "                 'winning performance',\n",
            "                 'Films featuring a Best Musical or Comedy Actress Golden '\n",
            "                 'Globe winning performance'],\n",
            " 'pianists': ['Films about pianos and pianists'],\n",
            " 'platt': ['Films produced by Marc E. Platt'],\n",
            " 'rotten': ['Rotten Tomatoes template using name parameter'],\n",
            " 'short': ['Short description is different from Wikidata'],\n",
            " 'summit': ['Summit Entertainment films'],\n",
            " 'template': ['Template film date with 2 release dates'],\n",
            " 'use': ['Use American English from June 2022', 'Use mdy dates from June 2018'],\n",
            " 'wikidata': ['IMDb ID same as Wikidata',\n",
            "              'Short description is different from Wikidata'],\n",
            " 'wikipedia': ['Official website different in Wikidata and Wikipedia'],\n",
            " 'winners': ['Best Film BAFTA Award winners',\n",
            "             'Best Musical or Comedy Picture Golden Globe winners']}\n",
            "{'(de)': ['CS1 German-language sources (de)'],\n",
            " '(films)': ['BAFTA winners (films)'],\n",
            " '2010s': ['2010s English-language films',\n",
            "           '2010s dance films',\n",
            "           '2010s musical comedy-drama films',\n",
            "           '2010s romantic musical films'],\n",
            " '2016': ['2016 drama films', '2016 films', '2016 romantic comedy-drama films'],\n",
            " '2018': ['Use mdy dates from June 2018'],\n",
            " '2022': ['Use American English from June 2022'],\n",
            " 'ac': ['AC using state parameter: expanded', 'AC with 0 elements'],\n",
            " 'actors': ['Films about actors'],\n",
            " 'all': ['All Wikipedia articles written in American English'],\n",
            " 'american': ['American dance films',\n",
            "              'American musical comedy films',\n",
            "              'American musical drama films',\n",
            "              'American romantic comedy-drama films',\n",
            "              'American romantic musical films'],\n",
            " 'angeles': ['Films about Hollywood, Los Angeles',\n",
            "             'Films set in Los Angeles',\n",
            "             'Films shot in Los Angeles'],\n",
            " 'articles': ['Articles with short description', 'Good articles'],\n",
            " 'award': ['Films that won the Best Original Score Academy Award',\n",
            "           'Films that won the Best Original Song Academy Award',\n",
            "           'Films whose art director won the Best Art Direction Academy Award',\n",
            "           'Films whose cinematographer won the Best Cinematography Academy '\n",
            "           'Award',\n",
            "           'Films whose director won the Best Directing Academy Award',\n",
            "           'Films whose director won the Best Direction BAFTA Award'],\n",
            " 'bafta': ['BAFTA winners (films)'],\n",
            " 'best': ['Best Film BAFTA Award winners',\n",
            "          'Best Musical or Comedy Picture Golden Globe winners'],\n",
            " 'black': ['Black Label Media films'],\n",
            " 'chazelle': ['Films directed by Damien Chazelle',\n",
            "              'Films with screenplays by Damien Chazelle'],\n",
            " 'cs1': ['CS1 German-language sources (de)'],\n",
            " 'dates': ['Template film date with 2 release dates'],\n",
            " 'description': ['Articles with short description'],\n",
            " 'elements': ['AC with 0 elements'],\n",
            " 'english': ['All Wikipedia articles written in American English'],\n",
            " 'english-language': ['English-language films'],\n",
            " 'expanded': ['AC using state parameter: expanded'],\n",
            " 'films': ['2010s English-language films',\n",
            "           '2010s dance films',\n",
            "           '2010s musical comedy-drama films',\n",
            "           '2010s romantic musical films',\n",
            "           '2016 drama films',\n",
            "           '2016 films',\n",
            "           '2016 romantic comedy-drama films',\n",
            "           'American dance films',\n",
            "           'American musical comedy films',\n",
            "           'American musical drama films',\n",
            "           'American romantic comedy-drama films',\n",
            "           'American romantic musical films',\n",
            "           'Black Label Media films',\n",
            "           'English-language films',\n",
            "           'Films about Hollywood, Los Angeles',\n",
            "           'Films about actors',\n",
            "           'Films about mass media people',\n",
            "           'Films about pianos and pianists',\n",
            "           'Films directed by Damien Chazelle',\n",
            "           'Films featuring a Best Actress Academy Award-winning performance',\n",
            "           'Films featuring a Best Musical or Comedy Actor Golden Globe '\n",
            "           'winning performance',\n",
            "           'Films featuring a Best Musical or Comedy Actress Golden Globe '\n",
            "           'winning performance',\n",
            "           'Films produced by Marc E. Platt',\n",
            "           'Films scored by Justin Hurwitz',\n",
            "           'Films set in Los Angeles',\n",
            "           'Films set in Nevada',\n",
            "           'Films set in studio lots',\n",
            "           'Films shot in Los Angeles',\n",
            "           'Films that won the Best Original Score Academy Award',\n",
            "           'Films that won the Best Original Song Academy Award',\n",
            "           'Films whose art director won the Best Art Direction Academy Award',\n",
            "           'Films whose cinematographer won the Best Cinematography Academy '\n",
            "           'Award',\n",
            "           'Films whose director won the Best Directing Academy Award',\n",
            "           'Films whose director won the Best Direction BAFTA Award',\n",
            "           'Films whose director won the Best Director Golden Globe',\n",
            "           'Films with screenplays by Damien Chazelle',\n",
            "           'IMAX films',\n",
            "           'Jazz films',\n",
            "           'Summit Entertainment films'],\n",
            " 'globe': ['Films whose director won the Best Director Golden Globe'],\n",
            " 'good': ['Good articles'],\n",
            " 'hurwitz': ['Films scored by Justin Hurwitz'],\n",
            " 'imax': ['IMAX films'],\n",
            " 'imdb': ['IMDb ID same as Wikidata'],\n",
            " 'jazz': ['Jazz films'],\n",
            " 'lots': ['Films set in studio lots'],\n",
            " 'nevada': ['Films set in Nevada'],\n",
            " 'official': ['Official website different in Wikidata and Wikipedia'],\n",
            " 'parameter': ['Rotten Tomatoes template using name parameter'],\n",
            " 'people': ['Films about mass media people'],\n",
            " 'performance': ['Films featuring a Best Actress Academy Award-winning '\n",
            "                 'performance',\n",
            "                 'Films featuring a Best Musical or Comedy Actor Golden Globe '\n",
            "                 'winning performance',\n",
            "                 'Films featuring a Best Musical or Comedy Actress Golden '\n",
            "                 'Globe winning performance'],\n",
            " 'pianists': ['Films about pianos and pianists'],\n",
            " 'platt': ['Films produced by Marc E. Platt'],\n",
            " 'rotten': ['Rotten Tomatoes template using name parameter'],\n",
            " 'short': ['Short description is different from Wikidata'],\n",
            " 'summit': ['Summit Entertainment films'],\n",
            " 'template': ['Template film date with 2 release dates'],\n",
            " 'use': ['Use American English from June 2022', 'Use mdy dates from June 2018'],\n",
            " 'wikidata': ['IMDb ID same as Wikidata',\n",
            "              'Short description is different from Wikidata'],\n",
            " 'wikipedia': ['Official website different in Wikidata and Wikipedia'],\n",
            " 'winners': ['Best Film BAFTA Award winners',\n",
            "             'Best Musical or Comedy Picture Golden Globe winners']}\n"
          ]
        }
      ],
      "source": [
        "#separa as strings das categorias\n",
        "#analisa sufixos e prefixos de cada categoria\n",
        "#cria dicionario que usar prefixos e sufixos como chave, e categorias como valor\n",
        "\n",
        "def create_candidate_category_sets(categories):\n",
        "\n",
        "\tcandidate_sets = dict()\n",
        "\n",
        "\tfor category in categories:\n",
        "\t\tcategory_words = category.split()\n",
        "\t\tprefix = category_words[0].lower()\n",
        "\t\tsufix = category_words[-1].lower()\n",
        "\t\tif prefix not in candidate_sets:\n",
        "\t\t\tcandidate_sets[prefix] = [category]\n",
        "\t\telse:\n",
        "\t\t\tcandidate_sets[prefix].append(category)\n",
        "\t\t\n",
        "\t\tif prefix == sufix:\n",
        "\t\t\tcontinue\n",
        "\n",
        "\t\tif sufix not in candidate_sets:\n",
        "\t\t\tcandidate_sets[sufix] = [category]\n",
        "\t\telse:\n",
        "\t\t\tcandidate_sets[sufix].append(category)\n",
        "\n",
        "\treturn candidate_sets\n",
        "\n",
        "\n",
        "candidates = create_candidate_category_sets(searched_categories)\n",
        "pprint(candidates)\n"
      ]
    },
    {
      "cell_type": "markdown",
      "metadata": {
        "id": "hQnSBBZuw2-V"
      },
      "source": [
        "## Pattern Mining and Axiom Application"
      ]
    },
    {
      "cell_type": "markdown",
      "metadata": {
        "id": "EnFmGLtG7hIc"
      },
      "source": [
        "### Converte prefixo/sufixo para singular e capitaliza primeira letra"
      ]
    },
    {
      "cell_type": "code",
      "execution_count": null,
      "metadata": {
        "id": "fAP-6z3ppkv3"
      },
      "outputs": [],
      "source": [
        "def format_str_type(str_type):\n",
        "  #converte a string para singular caso ela esteja no plural\n",
        "  str_type = singularize(str_type)\n",
        "  #altera o primeiro caracter para ficar maiusculo\n",
        "  return str_type.capitalize()\n"
      ]
    },
    {
      "cell_type": "markdown",
      "metadata": {
        "id": "7QZVa1UP75xV"
      },
      "source": [
        "### Encontra possíveis propriedades que contém a string com o uso de uma querie SPARQL"
      ]
    },
    {
      "cell_type": "code",
      "execution_count": null,
      "metadata": {
        "id": "J3h6tVnSulhc"
      },
      "outputs": [],
      "source": [
        "def get_possible_rdf_type(str_type):\n",
        "\n",
        "  rdf_type_list = []\n",
        "\n",
        "  str_type = format_str_type(str_type)\n",
        "\n",
        "  sparql = SPARQLWrapper(\"http://dbpedia.org/sparql\")\n",
        "\n",
        "  type_finder_query = \"\"\"\n",
        "\t  PREFIX rdf: <http://www.w3.org/1999/02/22-rdf-syntax-ns#>\n",
        "  \n",
        "    SELECT DISTINCT ?type\n",
        "    WHERE {\n",
        "     ?s a ?type .\n",
        "    FILTER regex(?type, \"%s$\")\n",
        "    }\n",
        "    LIMIT 5\n",
        "  \"\"\"\n",
        "\n",
        "  #substitui %s na querie SPARQL por str_type\n",
        "  type_finder_query = type_finder_query % str_type\n",
        "\n",
        "  sparql.setQuery(type_finder_query)\n",
        "  sparql.setReturnFormat(JSON)\n",
        "  qresults = sparql.query().convert()\n",
        "\n",
        "  #preenche lista com possíveis rdf:type\n",
        "  for result in qresults[\"results\"][\"bindings\"]:\n",
        "    rdf_type_list.append(result['type']['value'])\n",
        "\n",
        "  #retorna lista com rdf:type que contém a string str_type\n",
        "  return rdf_type_list\n"
      ]
    },
    {
      "cell_type": "code",
      "execution_count": null,
      "metadata": {
        "id": "DCgaVfBihlhb"
      },
      "outputs": [],
      "source": [
        "def is_rdf_type(str_type):\n",
        "  lenght = len(get_possible_rdf_type(str_type))\n",
        "  if lenght == 0:\n",
        "    return False\n",
        "  elif lenght > 0:\n",
        "    return True\n",
        "  else:\n",
        "    print(\"return type for get_possible_rdf_type() is not number, something went wrong\")\n",
        "    return -1\n"
      ]
    },
    {
      "cell_type": "code",
      "execution_count": null,
      "metadata": {
        "id": "7-Vzn9Ihu_O5"
      },
      "outputs": [],
      "source": [
        "def select_rdf_type(set_of_candidates):\n",
        "  rdf_types = []\n",
        "  for key in set_of_candidates.keys():\n",
        "    if is_rdf_type(key):\n",
        "      rdf_types.append()\n",
        "  \n",
        "  return rdf_types"
      ]
    },
    {
      "cell_type": "markdown",
      "metadata": {
        "id": "j8t6u3Wl-ris"
      },
      "source": [
        "### Pega o prefixo/sufixo mais frequente, seu número de ocorrências e frequência"
      ]
    },
    {
      "cell_type": "code",
      "execution_count": null,
      "metadata": {
        "id": "JCVfAJmSw2-X"
      },
      "outputs": [],
      "source": [
        "#Recebe os conjunto de candidatos e retorna o tipo (prefixo/sufixo) mais frequente, com o numero de ocorrencias e a frequencia\n",
        "\n",
        "def get_type_frequency(category_dict):\n",
        "\tcount = 0\n",
        "\tmost_frequent_type_frequency = 0\n",
        "\tmost_frequent_type = None\n",
        "\n",
        "\tif 'articles' in category_dict:\n",
        "\t\tdel category_dict['articles']\n",
        "\n",
        "\tif 'identifiers' in category_dict:\n",
        "\t\tdel category_dict['identifiers']\n",
        "\n",
        "\tif 'text' in category_dict:\n",
        "\t\tdel category_dict['text']\n",
        "\n",
        "\tif 'all' in category_dict:\n",
        "\t\tdel category_dict['all']\n",
        "\n",
        "\tif 'pages' in category_dict:\n",
        "\t\tdel category_dict['pages']\n",
        "\n",
        "\tif 'cs1' in category_dict:\n",
        "\t\tdel category_dict['cs1']\n",
        "\n",
        "\tfor key in category_dict:\n",
        "\n",
        "\t\tcount += len(category_dict[key])\n",
        "\t\n",
        "\t\tif key.isnumeric():\n",
        "\t\t\tcontinue\n",
        "\n",
        "\t\tif len(category_dict[key]) > most_frequent_type_frequency:\n",
        "\t\t\tmost_frequent_type_frequency = len(category_dict[key])\n",
        "\t\t\tmost_frequent_type = key\n",
        "\t\n",
        "\tfrequency = most_frequent_type_frequency / count\n",
        "\n",
        "\treturn format_str_type(most_frequent_type), count, frequency\n"
      ]
    },
    {
      "cell_type": "markdown",
      "metadata": {
        "id": "SViaQ5ID8T0e"
      },
      "source": [
        "## Pattern Application and Post-filtering"
      ]
    },
    {
      "cell_type": "markdown",
      "metadata": {
        "id": "yfNwoB0KyqxX"
      },
      "source": [
        "### Calcula pontuação de confiabilidade"
      ]
    },
    {
      "cell_type": "code",
      "execution_count": null,
      "metadata": {
        "id": "fVmhgtxaw2-a"
      },
      "outputs": [],
      "source": [
        "# define cfix and lex_score\n",
        "\n",
        "# score of relation (p,v)\n",
        "def type_score(category_set):\n",
        "\tlex_score = 0\n",
        "\tmost_frequent_type, count, frequency = get_type_frequency(candidates)\n",
        "\tlex_score = len(get_possible_rdf_type(most_frequent_type))\n",
        "\tscore = frequency * (1 + lex_score)\n",
        "\treturn most_frequent_type, score\n"
      ]
    },
    {
      "cell_type": "code",
      "execution_count": null,
      "metadata": {
        "id": "pAK3ZrT6gf1t",
        "colab": {
          "base_uri": "https://localhost:8080/"
        },
        "outputId": "4b25d43c-4e90-4b94-fa32-1d5f0bfcce5e"
      },
      "outputs": [
        {
          "output_type": "stream",
          "name": "stdout",
          "text": [
            "Insira um tópico da wikipedia para ser analisado: sun\n",
            "\n",
            "Insira a pontuação mínima de confiabilidade (preferencialmente algum valor entre 0 e 1): 0\n",
            "\n",
            "\n",
            "Categorias encontradas: ['All Wikipedia articles written in American English', 'Articles containing Ancient Greek (to 1453)-language text', 'Articles containing Bavarian-language text', 'Articles containing Dutch-language text', 'Articles containing German-language text', 'Articles containing Gothic-language text', 'Articles containing Icelandic-language text', 'Articles containing Latin-language text', 'Articles containing Low German-language text', 'Articles containing Old English (ca. 450-1100)-language text', 'Articles containing Old Norse-language text', 'Articles containing Persian-language text', 'Articles containing Proto-Germanic-language text', 'Articles containing Russian-language text', 'Articles containing Sanskrit-language text', 'Articles containing Swedish-language text', 'Articles containing Welsh-language text', 'Articles containing West Frisian-language text', 'Articles containing video clips', 'Articles with BNF identifiers', 'Articles with GND identifiers', 'Articles with J9U identifiers', 'Articles with LCCN identifiers', 'Articles with NARA identifiers', 'Articles with NDL identifiers', 'Articles with NKC identifiers', 'Articles with excerpts', 'Articles with hAudio microformats', 'Articles with short description', 'Astronomical objects known since antiquity', 'Featured articles', 'G-type main-sequence stars', 'Light sources', 'Pages using Sister project links with default search', 'Pages with login required references or sources', 'Pages with numeric Bible version references', 'Plasma physics', 'Short description is different from Wikidata', 'Solar System', 'Source attribution', 'Space plasmas', 'Spoken articles', 'Stars with proper names', 'Sun', 'Use American English from August 2019', 'Use dmy dates from August 2019', 'Webarchive template wayback links', 'Wikipedia indefinitely move-protected pages', 'Wikipedia indefinitely semi-protected pages']\n",
            "{'2019': ['Use American English from August 2019',\n",
            "          'Use dmy dates from August 2019'],\n",
            " 'all': ['All Wikipedia articles written in American English'],\n",
            " 'antiquity': ['Astronomical objects known since antiquity'],\n",
            " 'articles': ['Articles containing Ancient Greek (to 1453)-language text',\n",
            "              'Articles containing Bavarian-language text',\n",
            "              'Articles containing Dutch-language text',\n",
            "              'Articles containing German-language text',\n",
            "              'Articles containing Gothic-language text',\n",
            "              'Articles containing Icelandic-language text',\n",
            "              'Articles containing Latin-language text',\n",
            "              'Articles containing Low German-language text',\n",
            "              'Articles containing Old English (ca. 450-1100)-language text',\n",
            "              'Articles containing Old Norse-language text',\n",
            "              'Articles containing Persian-language text',\n",
            "              'Articles containing Proto-Germanic-language text',\n",
            "              'Articles containing Russian-language text',\n",
            "              'Articles containing Sanskrit-language text',\n",
            "              'Articles containing Swedish-language text',\n",
            "              'Articles containing Welsh-language text',\n",
            "              'Articles containing West Frisian-language text',\n",
            "              'Articles containing video clips',\n",
            "              'Articles with BNF identifiers',\n",
            "              'Articles with GND identifiers',\n",
            "              'Articles with J9U identifiers',\n",
            "              'Articles with LCCN identifiers',\n",
            "              'Articles with NARA identifiers',\n",
            "              'Articles with NDL identifiers',\n",
            "              'Articles with NKC identifiers',\n",
            "              'Articles with excerpts',\n",
            "              'Articles with hAudio microformats',\n",
            "              'Articles with short description',\n",
            "              'Featured articles',\n",
            "              'Spoken articles'],\n",
            " 'astronomical': ['Astronomical objects known since antiquity'],\n",
            " 'attribution': ['Source attribution'],\n",
            " 'clips': ['Articles containing video clips'],\n",
            " 'description': ['Articles with short description'],\n",
            " 'english': ['All Wikipedia articles written in American English'],\n",
            " 'excerpts': ['Articles with excerpts'],\n",
            " 'featured': ['Featured articles'],\n",
            " 'g-type': ['G-type main-sequence stars'],\n",
            " 'identifiers': ['Articles with BNF identifiers',\n",
            "                 'Articles with GND identifiers',\n",
            "                 'Articles with J9U identifiers',\n",
            "                 'Articles with LCCN identifiers',\n",
            "                 'Articles with NARA identifiers',\n",
            "                 'Articles with NDL identifiers',\n",
            "                 'Articles with NKC identifiers'],\n",
            " 'light': ['Light sources'],\n",
            " 'links': ['Webarchive template wayback links'],\n",
            " 'microformats': ['Articles with hAudio microformats'],\n",
            " 'names': ['Stars with proper names'],\n",
            " 'pages': ['Pages using Sister project links with default search',\n",
            "           'Pages with login required references or sources',\n",
            "           'Pages with numeric Bible version references',\n",
            "           'Wikipedia indefinitely move-protected pages',\n",
            "           'Wikipedia indefinitely semi-protected pages'],\n",
            " 'physics': ['Plasma physics'],\n",
            " 'plasma': ['Plasma physics'],\n",
            " 'plasmas': ['Space plasmas'],\n",
            " 'references': ['Pages with numeric Bible version references'],\n",
            " 'search': ['Pages using Sister project links with default search'],\n",
            " 'short': ['Short description is different from Wikidata'],\n",
            " 'solar': ['Solar System'],\n",
            " 'source': ['Source attribution'],\n",
            " 'sources': ['Light sources',\n",
            "             'Pages with login required references or sources'],\n",
            " 'space': ['Space plasmas'],\n",
            " 'spoken': ['Spoken articles'],\n",
            " 'stars': ['G-type main-sequence stars', 'Stars with proper names'],\n",
            " 'sun': ['Sun'],\n",
            " 'system': ['Solar System'],\n",
            " 'text': ['Articles containing Ancient Greek (to 1453)-language text',\n",
            "          'Articles containing Bavarian-language text',\n",
            "          'Articles containing Dutch-language text',\n",
            "          'Articles containing German-language text',\n",
            "          'Articles containing Gothic-language text',\n",
            "          'Articles containing Icelandic-language text',\n",
            "          'Articles containing Latin-language text',\n",
            "          'Articles containing Low German-language text',\n",
            "          'Articles containing Old English (ca. 450-1100)-language text',\n",
            "          'Articles containing Old Norse-language text',\n",
            "          'Articles containing Persian-language text',\n",
            "          'Articles containing Proto-Germanic-language text',\n",
            "          'Articles containing Russian-language text',\n",
            "          'Articles containing Sanskrit-language text',\n",
            "          'Articles containing Swedish-language text',\n",
            "          'Articles containing Welsh-language text',\n",
            "          'Articles containing West Frisian-language text'],\n",
            " 'use': ['Use American English from August 2019',\n",
            "         'Use dmy dates from August 2019'],\n",
            " 'webarchive': ['Webarchive template wayback links'],\n",
            " 'wikidata': ['Short description is different from Wikidata'],\n",
            " 'wikipedia': ['Wikipedia indefinitely move-protected pages',\n",
            "               'Wikipedia indefinitely semi-protected pages']}\n",
            "**********************\n",
            "Propriedade selecionada: Star\n",
            "Pontuação de confiabilidade: 0.32432432432432434\n",
            "**********************\n"
          ]
        }
      ],
      "source": [
        "if __name__ == '__main__':\n",
        "\n",
        "  wikipedia_term = input(\"Insira um tópico da wikipedia para ser analisado: \")\n",
        "  minimum_conf = input(\"\\nInsira a pontuação mínima de confiabilidade (preferencialmente algum valor entre 0 e 1): \")\n",
        "  print(\"\\n\")\n",
        "  searched_categories = search_wikipedia_categories(wikipedia_term)\n",
        "  candidates = create_candidate_category_sets(searched_categories)\n",
        "  pprint(candidates)\n",
        "  most_frequent_type, count, frequency = get_type_frequency(candidates)\n",
        "  selected_property, conf_score = type_score(candidates)\n",
        "  if conf_score >= float(minimum_conf):\n",
        "    print(\"**********************\")\n",
        "    print(\"Propriedade selecionada:\", most_frequent_type)\n",
        "    print(\"Pontuação de confiabilidade:\", conf_score)\n",
        "    print(\"**********************\")\n",
        "  else:\n",
        "    print(\"Asserção de tipo não teve pontuação de confiabilidade suficiente\")\n"
      ]
    }
  ],
  "metadata": {
    "colab": {
      "name": "trab_final_tebd.ipynb",
      "toc_visible": true,
      "provenance": [],
      "collapsed_sections": []
    },
    "kernelspec": {
      "display_name": "Python 3.10.4 64-bit",
      "language": "python",
      "name": "python3"
    },
    "language_info": {
      "codemirror_mode": {
        "name": "ipython",
        "version": 3
      },
      "file_extension": ".py",
      "mimetype": "text/x-python",
      "name": "python",
      "nbconvert_exporter": "python",
      "pygments_lexer": "ipython3",
      "version": "3.10.4"
    },
    "vscode": {
      "interpreter": {
        "hash": "916dbcbb3f70747c44a77c7bcd40155683ae19c65e1c03b4aa3499c5328201f1"
      }
    }
  },
  "nbformat": 4,
  "nbformat_minor": 0
}